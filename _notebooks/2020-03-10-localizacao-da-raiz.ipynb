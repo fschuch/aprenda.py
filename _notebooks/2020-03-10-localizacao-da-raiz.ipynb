{
 "cells": [
  {
   "cell_type": "markdown",
   "metadata": {},
   "source": [
    "# Otimização e localização da raiz com scipy.optimize\n",
    "> Você conseque revolver a equação proposta? Clique no post e veja como solucionar numericamente.\n",
    "\n",
    "- toc: false\n",
    "- badges: true\n",
    "- comments: true\n",
    "- author: Felipe N. Schuch\n",
    "- categories: [SciPy]"
   ]
  },
  {
   "cell_type": "markdown",
   "metadata": {
    "colab_type": "text",
    "id": "FafBmcLgEe8P"
   },
   "source": [
    "O SciPy `optimize` fornece funções para minimizar (ou maximizar) funções objetivas, possivelmente sujeitas a restrições.  Inclui solucionadores para problemas não lineares (com suporte para algoritmos de otimização locais e globais), programação linear, mínimos quadrados não-lineares e restritos, localização de raiz e ajuste de curva. Para mais informações, consulte a [documentação oficial](https://docs.scipy.org/doc/scipy/reference/optimize.html).\n",
    "\n",
    "Hoje optamos pela função `fsolve`, que retorna as raízes das equações (não lineares) definidas por `func(x) = 0` dada uma estimativa inicial."
   ]
  },
  {
   "cell_type": "code",
   "execution_count": null,
   "metadata": {
    "colab": {},
    "colab_type": "code",
    "id": "R55sEKSkp6U3"
   },
   "outputs": [],
   "source": [
    "from scipy.optimize import fsolve"
   ]
  },
  {
   "cell_type": "markdown",
   "metadata": {
    "colab_type": "text",
    "id": "sSGffcRYrcuM"
   },
   "source": [
    "\n",
    "Queremos resolver a equação:\n",
    "$$ 4^x + 6^x = 9^x, $$\n",
    "que pode facilmente ser reescrita como:\n",
    "$$ 4^x + 6^x - 9^x = 0. $$\n",
    "\n",
    "Agora escrevemos uma função que recebe como argumento `x` e retorna o valor calculado no lado esquerdo da equação acima:"
   ]
  },
  {
   "cell_type": "code",
   "execution_count": null,
   "metadata": {
    "colab": {},
    "colab_type": "code",
    "id": "6NB5Ibz7qA2r"
   },
   "outputs": [],
   "source": [
    "def equation(x):\n",
    "  '''\n",
    "  Note que aqui podemos definir tanta complexidade quanto necessário para o\n",
    "  problema em estudo, como: multiplas variáveis, laços \"for\", testes lógicos,\n",
    "  entre outros. Entretanto, para o nosso exemplo, a linha a seguir é suficiente.\n",
    "  '''\n",
    "  return 4**x + 6**x - 9**x"
   ]
  },
  {
   "cell_type": "markdown",
   "metadata": {
    "colab_type": "text",
    "id": "gUy8JHTGSJ7G"
   },
   "source": [
    "Por fim, empregamos `fsolve`, fornecendo como argumentos a função `equation` e a estimativa inicial, nesse caso para dois valores `x0=[0,10]`:"
   ]
  },
  {
   "cell_type": "code",
   "execution_count": null,
   "metadata": {
    "colab": {
     "base_uri": "https://localhost:8080/",
     "height": 35
    },
    "colab_type": "code",
    "id": "rDxVRIZlqJFH",
    "outputId": "695ad201-6b73-4694-ec72-e28c73db98ac"
   },
   "outputs": [
    {
     "data": {
      "text/plain": [
       "array([-15.19593417,   1.18681439])"
      ]
     },
     "execution_count": 4,
     "metadata": {
      "tags": []
     },
     "output_type": "execute_result"
    }
   ],
   "source": [
    "fsolve(equation,x0=[0,10])"
   ]
  },
  {
   "cell_type": "markdown",
   "metadata": {
    "colab_type": "text",
    "id": "xHGJu19KS6uq"
   },
   "source": [
    "Perceba como duas soluções diferentes foram retornadas, evidenciando a importância de uma boa estimativa inicial. A escolha de uma ou de outra dependeria das restrições físicas do problema, o que está fora do escopo desse nosso exemplo."
   ]
  },
  {
   "cell_type": "markdown",
   "metadata": {},
   "source": [
    "A inspiração para esse exemplo de solução numérica surgiu a partir da solução analítica disponível em:\n",
    "\n",
    "> youtube: https://youtu.be/6AwfRXKvGsM"
   ]
  }
 ],
 "metadata": {
  "colab": {
   "collapsed_sections": [],
   "name": "Power-x.ipynb",
   "provenance": []
  },
  "kernelspec": {
   "display_name": "Python 3",
   "language": "python",
   "name": "python3"
  },
  "language_info": {
   "codemirror_mode": {
    "name": "ipython",
    "version": 3
   },
   "file_extension": ".py",
   "mimetype": "text/x-python",
   "name": "python",
   "nbconvert_exporter": "python",
   "pygments_lexer": "ipython3",
   "version": "3.6.10"
  }
 },
 "nbformat": 4,
 "nbformat_minor": 4
}
