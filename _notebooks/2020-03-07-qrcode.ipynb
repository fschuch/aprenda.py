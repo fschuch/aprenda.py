{
 "cells": [
  {
   "cell_type": "markdown",
   "metadata": {},
   "source": [
    "# Transforme qualquer URL em QRcode usando Python\n",
    "> Mais sobre automação de tarefas, aqui vemos como transformar qualquer URL facilmente para QRcode. Experimente escanear o código com seu smartphone.\n",
    "\n",
    "- toc: false\n",
    "- badges: true\n",
    "- comments: true\n",
    "- author: [Felipe N. Schuch](https://fschuch.github.io/)\n",
    "- image: images/aprenda.py.qrcode.png"
   ]
  },
  {
   "cell_type": "markdown",
   "metadata": {
    "colab_type": "text",
    "id": "wu9ZDR4pQaoT"
   },
   "source": [
    "Uma das principais utilidades de qualquer ferramenta computacional é a possibilidade de automatizar tarefas. Aqui vemos como transformar qualquer URL facilmente para QRcode com Python.\n",
    "\n",
    "O primeiro passo é instalar o pacote `qrcode`.\n",
    "\n",
    "Isso pode ser feito por meio do seu gerenciador de pacotes preferido, como [Anaconda Python](https://www.anaconda.com/distribution/), por exemplo, ou com o comando no terminal:\n",
    "\n",
    "```\n",
    "pip install -q qrcode\n",
    "```"
   ]
  },
  {
   "cell_type": "code",
   "execution_count": 1,
   "metadata": {
    "colab": {},
    "colab_type": "code",
    "id": "zojn6JyLMAld"
   },
   "outputs": [],
   "source": [
    "#hide\n",
    "#Ou pode ser importado diretamente dentro do ambiente Colab com o comando mágico:\n",
    "!pip install -q qrcode"
   ]
  },
  {
   "cell_type": "markdown",
   "metadata": {},
   "source": [
    "Independente da sua escolha para meio de instalação, agora importamos o módulo"
   ]
  },
  {
   "cell_type": "code",
   "execution_count": 2,
   "metadata": {
    "colab": {},
    "colab_type": "code",
    "id": "SR70OOg6MLFB"
   },
   "outputs": [],
   "source": [
    "import qrcode"
   ]
  },
  {
   "cell_type": "markdown",
   "metadata": {},
   "source": [
    "E então estamos prontos para criar o primeiro qrcode com o comando `qrcode.make(<url>)`, como vemos a seguir"
   ]
  },
  {
   "cell_type": "code",
   "execution_count": 3,
   "metadata": {
    "colab": {
     "base_uri": "https://localhost:8080/",
     "height": 387
    },
    "colab_type": "code",
    "id": "G6Byb2oGMevj",
    "outputId": "8fe4daee-e747-4254-e640-6159b60780ba"
   },
   "outputs": [
    {
     "data": {
      "image/png": "[encoded data removed]",
      "text/plain": [
       "<qrcode.image.pil.PilImage at 0x1f946bfa1d0>"
      ]
     },
     "execution_count": 3,
     "metadata": {},
     "output_type": "execute_result"
    }
   ],
   "source": [
    "qrcode.make('https://www.instagram.com/aprenda.py/')"
   ]
  },
  {
   "cell_type": "markdown",
   "metadata": {},
   "source": [
    "Experimente scanear o código acima com o seu smartphone.\n",
    "\n",
    "A opção anterior apenas mostrou o resultado na tela, mas pode ser muito mais interessante salvar o qrcode para um arquivo. Pode-se fazer isso com duas linhas de código:"
   ]
  },
  {
   "cell_type": "code",
   "execution_count": 4,
   "metadata": {
    "colab": {},
    "colab_type": "code",
    "id": "8VT_vv-kMmD1"
   },
   "outputs": [],
   "source": [
    "img = qrcode.make('www.instagram.com/aprenda.py')\n",
    "img.save('aprenda.py.qrcode.png')"
   ]
  },
  {
   "cell_type": "markdown",
   "metadata": {
    "colab_type": "text",
    "id": "SLK_wnXXUKpH"
   },
   "source": [
    "Para opções avançadas, como alteração das cores, borda ao tamanho da imagem, não deixe de conferir a [documentação oficial](https://pypi.org/project/qrcode/) do pacote em:"
   ]
  },
  {
   "cell_type": "code",
   "execution_count": 5,
   "metadata": {
    "colab": {
     "base_uri": "https://localhost:8080/",
     "height": 387
    },
    "colab_type": "code",
    "id": "vmaDVCSuRN29",
    "outputId": "2d462a49-ce12-41a8-e917-ebba42d78dfe"
   },
   "outputs": [
    {
     "data": {
      "image/png": "[encoded data removed]",
      "text/plain": [
       "<qrcode.image.pil.PilImage at 0x1f946d09da0>"
      ]
     },
     "execution_count": 5,
     "metadata": {},
     "output_type": "execute_result"
    }
   ],
   "source": [
    "qr = qrcode.QRCode()\n",
    "qr.add_data('https://pypi.org/project/qrcode/')\n",
    "qr.make(fit=True)\n",
    "\n",
    "qr.make_image(fill_color=\"darkblue\", back_color=\"orange\")"
   ]
  },
  {
   "cell_type": "markdown",
   "metadata": {},
   "source": [
    "Note que é sempre possível e bastante simples consultar a documentação com: "
   ]
  },
  {
   "cell_type": "code",
   "execution_count": 6,
   "metadata": {
    "colab": {
     "base_uri": "https://localhost:8080/",
     "height": 143
    },
    "colab_type": "code",
    "id": "a9ZJ0S2iRarY",
    "outputId": "239425ad-7721-4a87-ca14-c7d63bbd8fc5"
   },
   "outputs": [
    {
     "name": "stdout",
     "output_type": "stream",
     "text": [
      "Help on method make_image in module qrcode.main:\n",
      "\n",
      "make_image(image_factory=None, **kwargs) method of qrcode.main.QRCode instance\n",
      "    Make an image from the QR Code data.\n",
      "    \n",
      "    If the data has not been compiled yet, make it first.\n",
      "\n"
     ]
    }
   ],
   "source": [
    "help(qr.make_image)"
   ]
  },
  {
   "cell_type": "markdown",
   "metadata": {},
   "source": [
    "Por fim, lembre-se que estamos dentro de um ambiente de programação, e podemos aproveitar de todos os recursos disponíveis, como laços, testes lógicos, estruturas de dados e a combinação com outros pacotes."
   ]
  }
 ],
 "metadata": {
  "colab": {
   "collapsed_sections": [],
   "name": "qrcode",
   "provenance": []
  },
  "kernelspec": {
   "display_name": "Python 3",
   "language": "python",
   "name": "python3"
  },
  "language_info": {
   "codemirror_mode": {
    "name": "ipython",
    "version": 3
   },
   "file_extension": ".py",
   "mimetype": "text/x-python",
   "name": "python",
   "nbconvert_exporter": "python",
   "pygments_lexer": "ipython3",
   "version": "3.6.10"
  }
 },
 "nbformat": 4,
 "nbformat_minor": 4
}
