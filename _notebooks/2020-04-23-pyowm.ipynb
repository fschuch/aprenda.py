{
  "nbformat": 4,
  "nbformat_minor": 0,
  "metadata": {
    "colab": {
      "name": "2020-04-23-pyowm.ipynb",
      "provenance": [],
      "collapsed_sections": [],
      "include_colab_link": true
    },
    "kernelspec": {
      "name": "python3",
      "display_name": "Python 3"
    }
  },
  "cells": [
    {
      "cell_type": "markdown",
      "metadata": {
        "id": "view-in-github",
        "colab_type": "text"
      },
      "source": [
        "<a href=\"https://colab.research.google.com/github/fschuch/aprenda.py/blob/master/_notebooks/2020-04-23-pyowm.ipynb\" target=\"_parent\"><img src=\"https://colab.research.google.com/assets/colab-badge.svg\" alt=\"Open In Colab\"/></a>"
      ]
    },
    {
      "cell_type": "markdown",
      "metadata": {
        "id": "dom9d1J7w5FK",
        "colab_type": "text"
      },
      "source": [
        "# Obtenção da previsão do tempo com a pacote PyOWM\n",
        "> PyOWM é um invólucro em Python para a API web de previsão do tempo OpenWeatherMap\n",
        "\n",
        "- toc: false\n",
        "- badges: false\n",
        "- comments: true\n",
        "- author: Felipe N. Schuch\n",
        "- image: images/pyown.png\n",
        "- categories: [variados]"
      ]
    },
    {
      "cell_type": "markdown",
      "metadata": {
        "id": "mNIEopbIDp1s",
        "colab_type": "text"
      },
      "source": [
        "PyOWM é uma biblioteca Python, projetada como um invólucro cliente para a API web do OpenWeatherMap (OWM).\n",
        "Permite o consumo rápido e fácil dos dados OWM para aplicações Python por meio de um modelo de objeto simples e de maneira amigável ao usuário humano.\n",
        "\n",
        "A biblioteca está disponível no [GitHub](https://github.com/csparpa/pyowm), onde pode-se obter maiores informações.\n",
        "\n",
        "O primeiro passo para sua utilização é a instalação, que pode ser feita no ambiente Jupyter Notebook (como esse post) com um comando mágico, com a seguinte linha de código:"
      ]
    },
    {
      "cell_type": "code",
      "metadata": {
        "id": "cy3_Ubr_o6Cp",
        "colab_type": "code",
        "colab": {}
      },
      "source": [
        "!pip install -q pyowm"
      ],
      "execution_count": 0,
      "outputs": []
    },
    {
      "cell_type": "markdown",
      "metadata": {
        "id": "441ou-xHFEOm",
        "colab_type": "text"
      },
      "source": [
        "A seguir, importamos as biblioteca:"
      ]
    },
    {
      "cell_type": "code",
      "metadata": {
        "id": "VTsYrrqDrdrP",
        "colab_type": "code",
        "colab": {}
      },
      "source": [
        "import pyowm"
      ],
      "execution_count": 0,
      "outputs": []
    },
    {
      "cell_type": "markdown",
      "metadata": {
        "id": "OlLYAMcbd6xQ",
        "colab_type": "text"
      },
      "source": [
        "Note que o provedor de dados climáticos é grátis, mas requer uma chave de acesso. Para tanto, um rápido registro é necessário na [página do OWM](https://home.openweathermap.org/users/sign_up).\n",
        "\n",
        "Uma vez que se tenha a chave, informamos ela ao programa:"
      ]
    },
    {
      "cell_type": "code",
      "metadata": {
        "id": "zG0ubaMMelET",
        "colab_type": "code",
        "colab": {}
      },
      "source": [
        "owm = pyowm.OWM('sua-chave-aqui')\n",
        "\n",
        "# Tem uma assinatura Pro? Nesse caso use:\n",
        "# owm = pyowm.OWM(API_key='sua-chave-aqui', subscription_type='pro')"
      ],
      "execution_count": 0,
      "outputs": []
    },
    {
      "cell_type": "markdown",
      "metadata": {
        "id": "xrAECb5Ahsa0",
        "colab_type": "text"
      },
      "source": [
        "Podemos fazer uma observação informando o local pretendido, por exemplo:"
      ]
    },
    {
      "cell_type": "code",
      "metadata": {
        "id": "RDBnKyvRgiYK",
        "colab_type": "code",
        "colab": {}
      },
      "source": [
        "observation = owm.weather_at_place('Porto Alegre,BR')"
      ],
      "execution_count": 0,
      "outputs": []
    },
    {
      "cell_type": "markdown",
      "metadata": {
        "id": "EK9KmkdCh06X",
        "colab_type": "text"
      },
      "source": [
        "E então obtemos a previsão do tempo:"
      ]
    },
    {
      "cell_type": "code",
      "metadata": {
        "id": "wCaE6VnshGs4",
        "colab_type": "code",
        "colab": {
          "base_uri": "https://localhost:8080/",
          "height": 35
        },
        "outputId": "bc9f705a-62da-4575-adb4-7e30c497e117"
      },
      "source": [
        "w = observation.get_weather()\n",
        "\n",
        "# Para imprimir na tela\n",
        "w"
      ],
      "execution_count": 5,
      "outputs": [
        {
          "output_type": "execute_result",
          "data": {
            "text/plain": [
              "<pyowm.weatherapi25.weather.Weather - reference time=2020-04-23 20:57:39+00, status=clear, detailed status=clear sky>"
            ]
          },
          "metadata": {
            "tags": []
          },
          "execution_count": 5
        }
      ]
    },
    {
      "cell_type": "markdown",
      "metadata": {
        "id": "CQSxiyrQh9s0",
        "colab_type": "text"
      },
      "source": [
        "O último passo do exemplo é observar os resultados obtidos:"
      ]
    },
    {
      "cell_type": "code",
      "metadata": {
        "id": "9Wt0xPB9hTVT",
        "colab_type": "code",
        "colab": {
          "base_uri": "https://localhost:8080/",
          "height": 35
        },
        "outputId": "bb72fbf3-8292-42db-b7a1-c3c4644fc4eb"
      },
      "source": [
        "# Informação sobre o vento\n",
        "w.get_wind()"
      ],
      "execution_count": 6,
      "outputs": [
        {
          "output_type": "execute_result",
          "data": {
            "text/plain": [
              "{'deg': 130, 'speed': 5.1}"
            ]
          },
          "metadata": {
            "tags": []
          },
          "execution_count": 6
        }
      ]
    },
    {
      "cell_type": "code",
      "metadata": {
        "id": "0Aaf_hwuhUl1",
        "colab_type": "code",
        "colab": {
          "base_uri": "https://localhost:8080/",
          "height": 35
        },
        "outputId": "b0c14fef-365b-437b-9c24-22f59d7ec5ce"
      },
      "source": [
        "# Umidade relativa do ar\n",
        "w.get_humidity()"
      ],
      "execution_count": 7,
      "outputs": [
        {
          "output_type": "execute_result",
          "data": {
            "text/plain": [
              "44"
            ]
          },
          "metadata": {
            "tags": []
          },
          "execution_count": 7
        }
      ]
    },
    {
      "cell_type": "code",
      "metadata": {
        "id": "uj94Byr1gmqd",
        "colab_type": "code",
        "colab": {
          "base_uri": "https://localhost:8080/",
          "height": 35
        },
        "outputId": "ff652e99-234c-44f3-c5a7-4c539c29ff26"
      },
      "source": [
        "# E temperatura\n",
        "w.get_temperature('celsius')"
      ],
      "execution_count": 8,
      "outputs": [
        {
          "output_type": "execute_result",
          "data": {
            "text/plain": [
              "{'temp': 25.67, 'temp_kf': None, 'temp_max': 27.0, 'temp_min': 24.44}"
            ]
          },
          "metadata": {
            "tags": []
          },
          "execution_count": 8
        }
      ]
    },
    {
      "cell_type": "markdown",
      "metadata": {
        "id": "_XcTWm-kih4W",
        "colab_type": "text"
      },
      "source": [
        "Confira a [documentação oficial](https://pyowm.readthedocs.io/en/latest/) da biblioteca se precisar e qualquer informação adicional."
      ]
    }
  ]
}