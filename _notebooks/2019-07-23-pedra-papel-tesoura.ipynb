{
 "cells": [
  {
   "cell_type": "markdown",
   "metadata": {},
   "source": [
    "# Desafio! Pedra, Papel e Tesoura\n",
    "> Um pouco de diversão hoje com o desafio de programar o jogo clássico pedra, papel e tesoura.\n",
    "\n",
    "- toc: false\n",
    "- badges: true\n",
    "- comments: true\n",
    "- author: Felipe N. Schuch\n",
    "- image: images/pedra-papel-tesoura.png\n",
    "- categories: [desafio, jogos]"
   ]
  },
  {
   "cell_type": "markdown",
   "metadata": {},
   "source": [
    "Pedra, papel e tesoura é um clássico, portanto imagino que você já deva ter jogado em algum momento. A regra é simples, pedra ganha da tesoura, tesoura ganha do papel e papel ganha da pedra (para mais informações, veja [Wikipédia](https://pt.wikipedia.org/wiki/Pedra,_papel_e_tesoura)).\n",
    "\n",
    "A verdade é que essa é uma proposta de desafio de programação, você é convidado a desenvolver sua própria solução para praticar suas habilidades. A proposta é um jogo amistoso entre humano e computador."
   ]
  },
  {
   "cell_type": "markdown",
   "metadata": {},
   "source": [
    "> Tip: A função `choise` do pacote `random` é uma boa opção para que o computador escolha aleatoriamente a sua jogada dentre as possibilidades pré estabelecidas em uma lista."
   ]
  },
  {
   "cell_type": "markdown",
   "metadata": {},
   "source": [
    "Existem vários caminhos diferentes para resolver um problema, dedique algum tempo para encontrar a solução proposta, então expanda as células de código abaixo para ver a minha versão do jogo:"
   ]
  },
  {
   "cell_type": "code",
   "execution_count": 1,
   "metadata": {},
   "outputs": [
    {
     "name": "stdin",
     "output_type": "stream",
     "text": [
      "Faça a sua jogada:  pedra\n"
     ]
    },
    {
     "name": "stdout",
     "output_type": "stream",
     "text": [
      "  O computador jogou pedra\n",
      "  Empatou!\n"
     ]
    },
    {
     "name": "stdin",
     "output_type": "stream",
     "text": [
      "Faça a sua jogada:  Papel\n"
     ]
    },
    {
     "name": "stdout",
     "output_type": "stream",
     "text": [
      "  O computador jogou papel\n",
      "  Empatou!\n"
     ]
    },
    {
     "name": "stdin",
     "output_type": "stream",
     "text": [
      "Faça a sua jogada:  TESOURA\n"
     ]
    },
    {
     "name": "stdout",
     "output_type": "stream",
     "text": [
      "  O computador jogou papel\n",
      "  Parabéns, você venceu!\n"
     ]
    },
    {
     "name": "stdin",
     "output_type": "stream",
     "text": [
      "Faça a sua jogada:  SaIR\n"
     ]
    }
   ],
   "source": [
    "#collapse-hide\n",
    "from random import choice\n",
    "#Lista das jogadas válidas\n",
    "play = ['pedra', 'papel', 'tesoura']\n",
    "#Matriz de decisão do resultado\n",
    "rule = (('e', 'd', 'v'),\n",
    "        ('v', 'e', 'd'),\n",
    "        ('d', 'v', 'e'))\n",
    "#Texto a ser exibido na tela\n",
    "text = {'e': '  Empatou!',\n",
    "        'v': '  Parabéns, você venceu!',\n",
    "        'd': '  Você foi derrotado!'}\n",
    "\n",
    "# Aqui temos o jogo própriamente dito\n",
    "while True:\n",
    "  h, c = input('Faça a sua jogada: ').lower(), choice(play)\n",
    "  if h == 'sair': # É sempre uma boa prática ter uma saida de um laço while True\n",
    "    break\n",
    "  if h in play: # E um teste de que a jogada foi válida\n",
    "    print(f'  O computador jogou {c}')\n",
    "    print(text[rule[play.index(h)][play.index(c)]])\n",
    "  else:\n",
    "    print(f'  As jogadas válidas são:\\n {play}')"
   ]
  },
  {
   "cell_type": "markdown",
   "metadata": {},
   "source": [
    "Muitas vezes nos deparamos com a tarefa de ter que desvendar o código escrito por outra pessoa, e essa é o segundo passo desse desafio. Você consegue compreender como se dá o jogo nas células acima? Se a resposta for não, recomendo a leitura sobre as estruturas de dados em Python chamadas [dicionários](https://docs.python.org/3/tutorial/datastructures.html#dictionaries), além de algumas [cláusulas de controle de laços](https://docs.python.org/3/tutorial/controlflow.html#break-and-continue-statements-and-else-clauses-on-loops)."
   ]
  }
 ],
 "metadata": {
  "kernelspec": {
   "display_name": "Python 3",
   "language": "python",
   "name": "python3"
  },
  "language_info": {
   "codemirror_mode": {
    "name": "ipython",
    "version": 3
   },
   "file_extension": ".py",
   "mimetype": "text/x-python",
   "name": "python",
   "nbconvert_exporter": "python",
   "pygments_lexer": "ipython3",
   "version": "3.6.10"
  }
 },
 "nbformat": 4,
 "nbformat_minor": 4
}
