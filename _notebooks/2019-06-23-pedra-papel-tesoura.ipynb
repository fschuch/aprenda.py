{
 "cells": [
  {
   "cell_type": "markdown",
   "metadata": {},
   "source": [
    "# Otimização e localização da raiz com scipy.optimize\n",
    "> Você conseque revolver a equação proposta? Clique no post e veja como solucionar numericamente.\n",
    "\n",
    "- toc: false\n",
    "- badges: true\n",
    "- comments: true\n",
    "- author: Felipe N. Schuch\n",
    "- image: images/optimize.png\n",
    "- categories: [SciPy]"
   ]
  },
  {
   "cell_type": "markdown",
   "metadata": {},
   "source": [
    "Muitas vezes nos deparamos com a tarefa de ter que desvendar o código escrito por outra pessoa, e essa é o segundo passo desse desafio. Você consegue compreender como se dá o jogo nas células acima? Se a resposta for não, recomendo a leitura sobre as estruturas de dados em Python chamadas [dicionários](https://docs.python.org/3/tutorial/datastructures.html#dictionaries), além de algumas [cláusulas de controle de laços](https://docs.python.org/3/tutorial/controlflow.html#break-and-continue-statements-and-else-clauses-on-loops)."
   ]
  }
 ],
 "metadata": {
  "kernelspec": {
   "display_name": "Python 3",
   "language": "python",
   "name": "python3"
  },
  "language_info": {
   "codemirror_mode": {
    "name": "ipython",
    "version": 3
   },
   "file_extension": ".py",
   "mimetype": "text/x-python",
   "name": "python",
   "nbconvert_exporter": "python",
   "pygments_lexer": "ipython3",
   "version": "3.6.10"
  }
 },
 "nbformat": 4,
 "nbformat_minor": 4
}
