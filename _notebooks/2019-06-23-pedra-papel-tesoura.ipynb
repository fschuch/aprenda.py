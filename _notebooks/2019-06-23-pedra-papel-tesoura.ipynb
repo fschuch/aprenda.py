{
 "cells": [
  {
   "cell_type": "markdown",
   "metadata": {},
   "source": [
    "# Desafio: Pedra, Papel e Tesoura\n",
    "> Um pouco de diversão hoje com o desafio de programar o jogo clássico pedra, papel e tesoura.\n",
    "\n",
    "- toc: false\n",
    "- badges: true\n",
    "- comments: true\n",
    "- author: Felipe N. Schuch\n",
    "- image: images/pedra-papel-tesoura.png\n",
    "- categories: [desafio, jogos]"
   ]
  },
  {
   "cell_type": "markdown",
   "metadata": {},
   "source": [
    "Pedra, papel e tesoura é um clássico, portanto imagino que você já deva ter jogado em algum momento. A regra é simples, pedra ganha da tesoura, tesoura ganha do papel e papel ganha da pedra (para mais informações, veja [Wikipédia](https://pt.wikipedia.org/wiki/Pedra,_papel_e_tesoura)).\n",
    "\n",
    "A verdade é que essa é uma proposta de desafio de programação, você é convidado a desenvolver sua própria solução para praticar suas habilidades. A proposta é um jogo amistoso entre humano e computador.\n",
    "\n",
    "> Tip: A função `choise` do pacote `random` é uma boa opção para que o computador escolha aleatoriamente a sua jogada dentre as possibilidades pré estabelecidas em uma lista.\n",
    "\n",
    "Existem vários caminhos diferentes para resolver um problema, dedique algum tempo para encontrar a solução proposta, então expanda as células de código abaixo para ver a minha versão do jogo:"
   ]
  },
  {
   "cell_type": "code",
   "execution_count": 1,
   "metadata": {},
   "outputs": [
    {
     "ename": "NameError",
     "evalue": "name 'h' is not defined",
     "output_type": "error",
     "traceback": [
      "\u001b[1;31m---------------------------------------------------------------------------\u001b[0m",
      "\u001b[1;31mNameError\u001b[0m                                 Traceback (most recent call last)",
      "\u001b[1;32m<ipython-input-1-c5747a3b3ee6>\u001b[0m in \u001b[0;36m<module>\u001b[1;34m\u001b[0m\n\u001b[0;32m     15\u001b[0m \u001b[1;32mwhile\u001b[0m \u001b[1;32mTrue\u001b[0m\u001b[1;33m:\u001b[0m\u001b[1;33m\u001b[0m\u001b[1;33m\u001b[0m\u001b[0m\n\u001b[0;32m     16\u001b[0m   \u001b[1;31m#h, c = input('Faça a sua jogada: ').lower(), choice(play)\u001b[0m\u001b[1;33m\u001b[0m\u001b[1;33m\u001b[0m\u001b[1;33m\u001b[0m\u001b[0m\n\u001b[1;32m---> 17\u001b[1;33m   \u001b[1;32mif\u001b[0m \u001b[0mh\u001b[0m \u001b[1;33m==\u001b[0m \u001b[1;34m'sair'\u001b[0m\u001b[1;33m:\u001b[0m \u001b[1;31m# É sempre uma boa prática ter uma saida de um laço while True\u001b[0m\u001b[1;33m\u001b[0m\u001b[1;33m\u001b[0m\u001b[0m\n\u001b[0m\u001b[0;32m     18\u001b[0m     \u001b[1;32mbreak\u001b[0m\u001b[1;33m\u001b[0m\u001b[1;33m\u001b[0m\u001b[0m\n\u001b[0;32m     19\u001b[0m   \u001b[1;32mif\u001b[0m \u001b[0mh\u001b[0m \u001b[1;32min\u001b[0m \u001b[0mplay\u001b[0m\u001b[1;33m:\u001b[0m \u001b[1;31m# E um teste de que a jogada foi válida\u001b[0m\u001b[1;33m\u001b[0m\u001b[1;33m\u001b[0m\u001b[0m\n",
      "\u001b[1;31mNameError\u001b[0m: name 'h' is not defined"
     ]
    }
   ],
   "source": [
    "# #collapse-hide\n",
    "# from random import choice\n",
    "# #Lista das jogadas válidas\n",
    "# play = ['pedra', 'papel', 'tesoura']\n",
    "# #Matriz de decisão do resultado\n",
    "# rule = (('e', 'd', 'v'),\n",
    "#         ('v', 'e', 'd'),\n",
    "#         ('d', 'v', 'e'))\n",
    "# #Texto a ser exibido na tela\n",
    "# text = {'e': '  Empatou!',\n",
    "#         'v': '  Parabéns, você venceu!',\n",
    "#         'd': '  Você foi derrotado!'}\n",
    "\n",
    "# # Aqui temos o jogo própriamente dito\n",
    "# while True:\n",
    "#   h, c = input('Faça a sua jogada: ').lower(), choice(play)\n",
    "#   if h == 'sair': # É sempre uma boa prática ter uma saida de um laço while True\n",
    "#     break\n",
    "#   if h in play: # E um teste de que a jogada foi válida\n",
    "#     print(f'  O computador jogou {c}')\n",
    "#     print(text[rule[play.index(h)][play.index(c)]])\n",
    "#   else:\n",
    "#     print(f'  As jogadas válidas são:\\n {play}')"
   ]
  },
  {
   "cell_type": "markdown",
   "metadata": {},
   "source": [
    "Muitas vezes nos deparamos com a tarefa de ter que desvendar o código escrito por outra pessoa, e essa é o segundo passo desse desafio. Você consegue compreender como se dá o jogo nas células acima? Se a resposta for não, recomendo a leitura sobre as estruturas de dados em Python chamadas [dicionários](https://docs.python.org/3/tutorial/datastructures.html#dictionaries), além de algumas [cláusulas de controle de laços](https://docs.python.org/3/tutorial/controlflow.html#break-and-continue-statements-and-else-clauses-on-loops)."
   ]
  }
 ],
 "metadata": {
  "kernelspec": {
   "display_name": "Python 3",
   "language": "python",
   "name": "python3"
  },
  "language_info": {
   "codemirror_mode": {
    "name": "ipython",
    "version": 3
   },
   "file_extension": ".py",
   "mimetype": "text/x-python",
   "name": "python",
   "nbconvert_exporter": "python",
   "pygments_lexer": "ipython3",
   "version": "3.6.10"
  }
 },
 "nbformat": 4,
 "nbformat_minor": 4
}
