{
 "cells": [
  {
   "cell_type": "markdown",
   "metadata": {},
   "source": [
    "# Desafio: Pedra, Papel e Tesoura\n",
    "> Um pouco de diversão hoje com o desafio de programar o jogo clássico pedra, papel e tesoura.\n",
    "\n",
    "- toc: false\n",
    "- badges: true\n",
    "- comments: true\n",
    "- author: Felipe N. Schuch\n",
    "- image: images/pedra-papel-tesoura.png\n",
    "- categories: [desafio, jogos]"
   ]
  },
  {
   "cell_type": "markdown",
   "metadata": {},
   "source": [
    "Pedra, papel e tesoura é um clássico, portanto imagino que você já deva ter jogado em algum momento. A regra é simples, pedra ganha da tesoura, tesoura ganha do papel e papel ganha da pedra (para mais informações, veja [Wikipédia](https://pt.wikipedia.org/wiki/Pedra,_papel_e_tesoura)).\n",
    "\n",
    "A verdade é que essa é uma proposta de desafio de programação, você é convidado a desenvolver sua própria solução para praticar suas habilidades. A proposta é um jogo amistoso entre humano e computador.\n",
    "\n",
    "> Tip: A função `choise` do pacote `random` é uma boa opção para que o computador escolha aleatoriamente a sua jogada dentre as possibilidades pré estabelecidas em uma lista.\n",
    "\n",
    "Existem vários caminhos diferentes para resolver um problema, dedique algum tempo para encontrar a solução proposta, então expanda as células de código abaixo para ver a minha versão do jogo:"
   ]
  },
  {
   "cell_type": "markdown",
   "metadata": {},
   "source": [
    "Muitas vezes nos deparamos com a tarefa de ter que desvendar o código escrito por outra pessoa, e essa é o segundo passo desse desafio. Você consegue compreender como se dá o jogo nas células acima? Se a resposta for não, recomendo a leitura sobre as estruturas de dados em Python chamadas [dicionários](https://docs.python.org/3/tutorial/datastructures.html#dictionaries), além de algumas [cláusulas de controle de laços](https://docs.python.org/3/tutorial/controlflow.html#break-and-continue-statements-and-else-clauses-on-loops)."
   ]
  }
 ],
 "metadata": {
  "kernelspec": {
   "display_name": "Python 3",
   "language": "python",
   "name": "python3"
  },
  "language_info": {
   "codemirror_mode": {
    "name": "ipython",
    "version": 3
   },
   "file_extension": ".py",
   "mimetype": "text/x-python",
   "name": "python",
   "nbconvert_exporter": "python",
   "pygments_lexer": "ipython3",
   "version": "3.6.10"
  }
 },
 "nbformat": 4,
 "nbformat_minor": 4
}
