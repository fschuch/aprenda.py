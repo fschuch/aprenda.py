{
 "cells": [
  {
   "cell_type": "markdown",
   "metadata": {},
   "source": [
    "# Integração numérica: Regra dos Trapézios\n",
    "> Ao final desta leitura, você deve compreender os princípios da integração numérica pelo método dos trapézios. Desde os conceitos básicos, passando por exemplos de algoritmos de implementação, até uma descrição de como usar SciPy, uma biblioteca Python para cálculo científico.\n",
    "\n",
    "- toc: true\n",
    "- badges: true\n",
    "- comments: true\n",
    "- author: Felipe N. Schuch\n",
    "- image: images/trapezoidal-rule.png\n",
    "- categories: [SciPy, métodos muméricos]"
   ]
  },
  {
   "cell_type": "markdown",
   "metadata": {},
   "source": [
    "# Introdução\n",
    "\n",
    "A operação integral é, de maneira geral, representada pela seguinte equação:\n",
    "\\\\[\n",
    "\\int_a^b f(x)dx.\n",
    "\\\\]\n",
    "\n",
    "No contexto geométrico, essa operação é capaz de calcular a área sob a curva \\\\( f(x) \\\\), para o intervalo \\\\( a \\le x \\le b \\\\). Muitas das funções mais conhecidas apresentam uma integral definida, isso é, podem ser calculadas de forma analítica, e essas definições aparecem em [Tabelas de Integrais](https://www.if.ufrgs.br/tex/fisica-4/tab-integrais.pdf) ou em utilitários de álgebra simbólica ([SymPy](https://www.sympy.org/pt/index.html), por exemplo).\n",
    "\n",
    "Existem casos onde a solução analítica não é possível, já que a função é de elevada complexidade ou mesmo desconhecida, e aí podemos recorrer aos métodos numéricos."
   ]
  },
  {
   "cell_type": "code",
   "execution_count": 1,
   "metadata": {
    "colab": {},
    "colab_type": "code",
    "id": "Qws5FZtl89Ko"
   },
   "outputs": [],
   "source": [
    "#hide\n",
    "\n",
    "# Esse bloco modifica alguns dos valores padrões para\n",
    "# apresentação das figuras\n",
    "\n",
    "import matplotlib.pyplot as plt\n",
    "\n",
    "plt.rcdefaults()\n",
    "\n",
    "# https://matplotlib.org/3.1.0/gallery/style_sheets/style_sheets_reference.html\n",
    "plt.style.use('ggplot')\n",
    "\n",
    "# https://matplotlib.org/3.1.1/tutorials/introductory/customizing.html\n",
    "plt.rcParams.update({'figure.dpi' : 75,\n",
    "                     \"figure.figsize\" : (6, 6),\n",
    "                     \"axes.formatter.limits\" : (-8, 8)\n",
    "                    })"
   ]
  },
  {
   "cell_type": "code",
   "execution_count": 2,
   "metadata": {
    "colab": {},
    "colab_type": "code",
    "id": "Dobxq0qm89Ku"
   },
   "outputs": [],
   "source": [
    "#hide\n",
    "\n",
    "'''\n",
    "Se reproduzir esse conteúdo em partes ou em\n",
    "sua totalidade, forneça um link para o\n",
    "material original:\n",
    "https://fschuch.github.io/aprenda.py/blog/trapezoidal-rule.html\n",
    "\n",
    "E por favor, apoie os nossos autores:\n",
    "https://twitter.com/fschuch\n",
    "'''\n",
    "def copyright():\n",
    "    plt.annotate('© 2020 Aprenda.py, por F. N. Schuch',\n",
    "                 xy=(0.5,0.01),\n",
    "                 xycoords='axes fraction',\n",
    "                 ha='center', va='bottom');"
   ]
  },
  {
   "cell_type": "code",
   "execution_count": 3,
   "metadata": {},
   "outputs": [],
   "source": [
    "#hide\n",
    "\n",
    "# Esse bloco nos serve como uma função para\n",
    "# a construção das figuras que virão\n",
    "\n",
    "import numpy as np\n",
    "\n",
    "def x(n=501):\n",
    "    return np.linspace(0., 4*np.pi, n, endpoint=True)\n",
    "\n",
    "def f(x):\n",
    "    return np.cos(x) + x/np.pi\n",
    "\n",
    "def figura(n):\n",
    "    import matplotlib as mpl\n",
    "\n",
    "    fig, ax = plt.subplots(nrows=1,\n",
    "                           ncols=1,\n",
    "                           #sharex='col',\n",
    "                           #sharey='row'\n",
    "                           #figsize=(6,6),\n",
    "                          )\n",
    "\n",
    "    #ax.set_title('Integração numérica - Regra dos trapézios')\n",
    "\n",
    "    xx = x(n)\n",
    "    yy = f(xx)\n",
    "\n",
    "    ax.fill_between(xx/np.pi, 0., yy, color='C1', label=f'$\\int f(x) dx$', alpha=.25)\n",
    "\n",
    "    if n <= 300:\n",
    "        for i, ival in enumerate(xx):\n",
    "            ival /= np.pi\n",
    "            ax.plot([ival, ival], [0., yy[i]], color='C1')\n",
    "        ax.plot(xx/np.pi, yy, color='C1')\n",
    "    else:\n",
    "        ax.fill_between(xx/np.pi, 0., yy, color='C1')\n",
    "\n",
    "\n",
    "    ax.plot(x()/np.pi,f(x()), color='k', label=r'$f(x) = \\cos(x) + x/\\pi}$')\n",
    "\n",
    "    #plt.ylabel('$f(x)$')\n",
    "    ax.xaxis.set_major_formatter(plt.FormatStrFormatter('%g $\\pi$'))\n",
    "    ax.xaxis.set_major_locator(mpl.ticker.MultipleLocator(base=1.0))\n",
    "    ax.set_xlabel('$x$')\n",
    "\n",
    "    ax.legend(loc='upper left')\n",
    "\n",
    "    copyright()\n",
    "    plt.show()"
   ]
  },
  {
   "cell_type": "markdown",
   "metadata": {},
   "source": [
    "# Trapézio Simples\n",
    "\n",
    "A regra do trapézio é uma das primeiras técnicas de integração que aprendemos em um curso de métodos numéricos.\n",
    "Ela consiste em aproximar a área sob a curva da função \\\\( f(x) \\\\) como a área de um trapézio, dada pela equação:\n",
    "\n",
    "\\\\[\n",
    "\\int_a^b f(x)dx \\approx \\dfrac{f(a) + f(b)}{2} (b-a).\n",
    "\\\\]\n",
    "\n",
    "O que seria o equivalente a calcular a área demarcada pela região cinza na figura:"
   ]
  },
  {
   "cell_type": "code",
   "execution_count": 4,
   "metadata": {},
   "outputs": [
    {
     "data": {
      "image/png": "[encoded data removed]",
      "text/plain": [
       "<Figure size 450x450 with 1 Axes>"
      ]
     },
     "metadata": {},
     "output_type": "display_data"
    }
   ],
   "source": [
    "#hide_input\n",
    "figura(2)"
   ]
  },
  {
   "cell_type": "markdown",
   "metadata": {},
   "source": [
    "Considerando a função \\\\( f(x) = \\cos(x) + x/\\pi \\\\) no intervalo \\\\( 0 \\le x \\le 15 \\\\), podemos facilmente calcular o valor da integral pelo método do trapézio como:\n",
    "\n",
    "\\\\[\n",
    "\\int_0^{4 \\pi} f(x)dx \\approx \\dfrac{1 + 5}{2} (4\\pi-0) \\approx 37,699.\n",
    "\\\\]\n",
    "\n",
    "Sabe-se, entretanto, que a solução exata é aproximadamente **25,133**. Nossa estimativa passou longe do valor esperado, mas como podemos melhorar isso?"
   ]
  },
  {
   "cell_type": "markdown",
   "metadata": {
    "toc-hr-collapsed": true
   },
   "source": [
    "# Trapézio Composto\n",
    "\n",
    "Bem, podemos melhorar a aproximação para o cálculo do valor da integral ao aumentarmos o número de trapézios, ou ao usar a regra trapezoidal composta. Ela é dada pela equação:\n",
    "\n",
    "\\\\[\n",
    "\\int_a^b fdx \\approx \\sum_{i=0}^{n-1} \\dfrac{f_{i} + f_{i+1}}{2} \\Delta x = \\dfrac{\\Delta x}{2} \\left( f_1 + 2f_2 + \\dots + 2f_{n-1} + f_{n}\\right).\n",
    "\\\\]\n",
    "\n",
    "Vamos considerar a mesma função \\\\( f(x) = \\cos(x) + x/\\pi \\\\) no intervalo \\\\( 0 \\le x \\le 4 \\pi \\\\). Se considerarmos \\\\( n = 4 \\\\), a integral vai representar a área cinza na figura:"
   ]
  },
  {
   "cell_type": "code",
   "execution_count": 5,
   "metadata": {},
   "outputs": [
    {
     "data": {
      "image/png": "[encoded data removed]",
      "text/plain": [
       "<Figure size 450x450 with 1 Axes>"
      ]
     },
     "metadata": {},
     "output_type": "display_data"
    }
   ],
   "source": [
    "#hide_imput\n",
    "figura(4)"
   ]
  },
  {
   "cell_type": "markdown",
   "metadata": {},
   "source": [
    "Melhor, não? Calcular seu valor já não é tão trivial, mas que tal começarmos a por a mão na massa?"
   ]
  },
  {
   "cell_type": "code",
   "execution_count": 6,
   "metadata": {},
   "outputs": [
    {
     "data": {
      "text/plain": [
       "25.132741228718345"
      ]
     },
     "execution_count": 6,
     "metadata": {},
     "output_type": "execute_result"
    }
   ],
   "source": [
    "import numpy as np #Importamos nossa biblioteca preferida\n",
    "\n",
    "def f(x): #Transcrevemos a função dada\n",
    "    return np.cos(x) + x/np.pi\n",
    "\n",
    "dx = 4*np.pi/3 #Calculamos o dx para esse caso\n",
    "\n",
    "#E finalmente calculamos a integral\n",
    "#pelo método trapezoidal composto\n",
    "dx*(f(0*dx) + 2*f(1*dx) + 2*f(2*dx) + f(3*dx))/2"
   ]
  },
  {
   "cell_type": "markdown",
   "metadata": {},
   "source": [
    "A resposta chegou mais perto. Podemos continuar aumentando o número de pontos empregados para diminuir o erro. Mas mais pontos demandariam muito trabalho com a abordagem que usamos aqui, a equação nem caberia na tela. Vamos automatizar esse processo?"
   ]
  },
  {
   "cell_type": "markdown",
   "metadata": {},
   "source": [
    "## Implementação\n",
    "\n",
    "Vamos resolver o método trapezoidal para a mesma função e intervalo, mas agora com ainda mais pontos, que tal \\\\( n = 21 \\\\)? A representação visual é essa:"
   ]
  },
  {
   "cell_type": "code",
   "execution_count": 7,
   "metadata": {},
   "outputs": [
    {
     "data": {
      "image/png": "[encoded data removed]",
      "text/plain": [
       "<Figure size 450x450 with 1 Axes>"
      ]
     },
     "metadata": {},
     "output_type": "display_data"
    }
   ],
   "source": [
    "#hide_imput\n",
    "figura(21)"
   ]
  },
  {
   "cell_type": "markdown",
   "metadata": {},
   "source": [
    "Vamos ir aumentando o nível de requinte do código, para que ele faça todo o trabalho dessa vez:"
   ]
  },
  {
   "cell_type": "code",
   "execution_count": 8,
   "metadata": {},
   "outputs": [
    {
     "name": "stdout",
     "output_type": "stream",
     "text": [
      "25.132741228718345\n"
     ]
    }
   ],
   "source": [
    "#Aqui definimos o intervalo que queremos,\n",
    "#bem como o número de pontos\n",
    "x = np.linspace(0, 4*np.pi, num=21)\n",
    "\n",
    "#\n",
    "# E é tudo que precisamos,\n",
    "# o resto é por conta do computador\n",
    "#\n",
    "\n",
    "y = f(x) #Nossa função já foi definida no bloco anterior\n",
    "\n",
    "dx = x[1] - x[0] #Obtem o espaçamento\n",
    "\n",
    "I = 0. #A operação envolve um somatório, então iniciamos uma variável acumuladora\n",
    "\n",
    "I += dx*y[0]/2\n",
    "\n",
    "for i in range(1,x.size-1): #Reflita, por que esse laço vai de 1 até n-1?\n",
    "    I += dx*y[i]\n",
    "\n",
    "I += dx*y[-1]/2\n",
    "\n",
    "print(I) #E finalmente temos o resultado"
   ]
  },
  {
   "cell_type": "markdown",
   "metadata": {},
   "source": [
    "E estamos cada vez mais perto da resposta exata. Nesse ponto, se estiver seguindo essa lição com uma aplicação Python aberta (**o que é altamente recomendado**), aproveite para experimentar diferentes possibilidades, varie os parâmetros, varie a função, veja o que acontece.\n",
    "\n",
    "> Important: Uma desvantagem dessa abordagem é que o laço `for` vai realizar as operações em série, uma de cada vez, e isso é bem ruim do ponto de vista do desempenho computacional.\n",
    "\n",
    "> Tip: Caso não conheça a função `np.linspace`, lembre-se que em Python é sempre possível acessar a documentação facilmente, basta digitar `help(np.linspace)`.\n",
    "{: .notice--info}"
   ]
  },
  {
   "cell_type": "markdown",
   "metadata": {},
   "source": [
    "## Operador Integral\n",
    "\n",
    "Após se divertir com os códigos que criamos até aqui, vamos prosseguir nossa escalada no que se refere a elegância. Vamos apresentar nossa integral na forma de um operador matricial. Retorne até a equação da regra trapezoidal composta e dê uma boa olhada. Percebe o padrão? Todos os termos são multiplicados por \\\\( \\Delta x \\\\), com exceção do primeiro e do último, que são multiplicados por \\\\( \\Delta x / 2 \\\\). Ora, se isso não tem exatamente a aparência de uma matriz identidade, onde o primeiro e ultimo elemento são divididos por 2, e então todos multiplicados por \\\\( \\Delta x \\\\), e por fim somados. São muitas palavras, mas não se assuste, a aparência não é tão ruim:\n",
    "\n",
    "\\\\[\n",
    "\\int_a^b f(x) dx = \\sum_{i=1}^n \\big(\n",
    "W_i f(x_i) \\big),\n",
    "\\\\]\n",
    "sendo o operador integral dado por\n",
    "\\\\[\n",
    "W =\n",
    "\\Delta x [\n",
    "1/2,  1, \\dots, 1, \\dots, 1, 1/2 ].\n",
    "\\\\]\n",
    "\n",
    "Tendo em vista que a coordenada `x`, a função `y` e o espaçamento da malha `dx` já foram todos definidos nos blocos anteriores, tudo que precisamos agora é definir o nosso operador integral:"
   ]
  },
  {
   "cell_type": "code",
   "execution_count": 9,
   "metadata": {},
   "outputs": [
    {
     "data": {
      "text/plain": [
       "25.132741228718345"
      ]
     },
     "execution_count": 9,
     "metadata": {},
     "output_type": "execute_result"
    }
   ],
   "source": [
    "#Iniciamos o operador integral como um vetor\n",
    "#preenchido por 1, multiplicado por dx\n",
    "Ix = dx*np.ones_like(x)\n",
    "\n",
    "#Dividimos o primeiro e último elemento por 2\n",
    "for i in [0, -1]:\n",
    "    Ix[i] /= 2.0\n",
    "\n",
    "#A multiplicação do operador pela função e a\n",
    "#soma dos elementos fornece nossa resposta\n",
    "np.sum(Ix * y)"
   ]
  },
  {
   "cell_type": "markdown",
   "metadata": {},
   "source": [
    "Nessa opção, após a inicialização, podemos calcular outras integrais apenas repetindo a última linha do código, aumentando a legibilidade e a chance de reutilização do código, e menos linhas para copiar e colar também são um benefício na hora de procurar e corrigir falhas.\n",
    "\n",
    "> Tip: Todas as operações embutidas nas principais bibliotecas python (como NumPy e SciPy) empregam conceitos de otimização e programação paralela nos bastidores, então são preferíveis por aumentar o desempenho computacional."
   ]
  },
  {
   "cell_type": "markdown",
   "metadata": {
    "toc-hr-collapsed": false
   },
   "source": [
    "## Biblioteca SciPy\n",
    "\n",
    "Meus parabéns se você chegou até aqui, o último passo. Vamos recapitular, já vimos quatro maneiras diferentes para calcular uma integral:\n",
    "\n",
    "1. Com a regra simples, a resposta veio de uma simples continha;\n",
    "2. Ao passar para a regra composta as coisas cresceram, usamos uma calculadora;\n",
    "3. Vimos como automatizar o cálculo, e foi então possivel experimentar diversas combinações de parâmetros;\n",
    "4. Então, aumentamos a elegância e resolvemos o problema de forma matricial.\n",
    "\n",
    "Agora, a última etapa envolve um dos motivos pelo qual Python tem se tornado tão popular: existe uma infinidade de bibliotecas já programadas, prontas para realizar diversas tarefas. De modo que podemos fazer:"
   ]
  },
  {
   "cell_type": "code",
   "execution_count": 10,
   "metadata": {},
   "outputs": [
    {
     "data": {
      "text/plain": [
       "25.132741228718345"
      ]
     },
     "execution_count": 10,
     "metadata": {},
     "output_type": "execute_result"
    }
   ],
   "source": [
    "from scipy.integrate import trapz\n",
    "trapz(y,x)"
   ]
  },
  {
   "cell_type": "markdown",
   "metadata": {},
   "source": [
    "Lindo, não? Repare que obtivemos exatamente a mesma resposta para os três últimos exercícios, mostrando que existem diferentes caminhos a serem trilhados. A prática vai lhe permitir escolher entre eles.\n",
    "\n",
    "Fazemos um destaque à função [scipy.integrate.cumtrapz](https://docs.scipy.org/doc/scipy/reference/generated/scipy.integrate.cumtrapz.html), que calcula a integral de forma acumulativa, que pode ser particularmente útil dependendo da aplicação."
   ]
  },
  {
   "cell_type": "markdown",
   "metadata": {},
   "source": [
    "### Exemplos"
   ]
  },
  {
   "cell_type": "code",
   "execution_count": 11,
   "metadata": {},
   "outputs": [
    {
     "data": {
      "text/plain": [
       "4.0"
      ]
     },
     "execution_count": 11,
     "metadata": {},
     "output_type": "execute_result"
    }
   ],
   "source": [
    "# Um exemplo unidirecional\n",
    "trapz([1,2,3])"
   ]
  },
  {
   "cell_type": "code",
   "execution_count": 12,
   "metadata": {},
   "outputs": [
    {
     "data": {
      "text/plain": [
       "8.0"
      ]
     },
     "execution_count": 12,
     "metadata": {},
     "output_type": "execute_result"
    }
   ],
   "source": [
    "# Onde podemos informar como argumento\n",
    "# opcional o sistema de coordenadas\n",
    "trapz([1,2,3], x=[4,6,8])"
   ]
  },
  {
   "cell_type": "code",
   "execution_count": 13,
   "metadata": {},
   "outputs": [
    {
     "data": {
      "text/plain": [
       "8.0"
      ]
     },
     "execution_count": 13,
     "metadata": {},
     "output_type": "execute_result"
    }
   ],
   "source": [
    "# Ou o espaçamento dos pontos,\n",
    "# caso seja uniforme\n",
    "trapz([1,2,3], dx=2)"
   ]
  },
  {
   "cell_type": "code",
   "execution_count": 14,
   "metadata": {},
   "outputs": [
    {
     "data": {
      "text/plain": [
       "array([[0, 1, 2],\n",
       "       [3, 4, 5]])"
      ]
     },
     "execution_count": 14,
     "metadata": {},
     "output_type": "execute_result"
    }
   ],
   "source": [
    "# Esse é o exemplo de um caso bidimensional\n",
    "a = np.arange(6).reshape(2, 3)\n",
    "a"
   ]
  },
  {
   "cell_type": "code",
   "execution_count": 15,
   "metadata": {},
   "outputs": [
    {
     "data": {
      "text/plain": [
       "array([1.5, 2.5, 3.5])"
      ]
     },
     "execution_count": 15,
     "metadata": {},
     "output_type": "execute_result"
    }
   ],
   "source": [
    "# Integral em x\n",
    "trapz(a, axis=0)"
   ]
  },
  {
   "cell_type": "code",
   "execution_count": 16,
   "metadata": {},
   "outputs": [
    {
     "data": {
      "text/plain": [
       "array([2., 8.])"
      ]
     },
     "execution_count": 16,
     "metadata": {},
     "output_type": "execute_result"
    }
   ],
   "source": [
    "# Integral em y\n",
    "trapz(a, axis=1)"
   ]
  },
  {
   "cell_type": "code",
   "execution_count": 17,
   "metadata": {},
   "outputs": [
    {
     "data": {
      "text/plain": [
       "5.0"
      ]
     },
     "execution_count": 17,
     "metadata": {},
     "output_type": "execute_result"
    }
   ],
   "source": [
    "# Integral dupla: x e então em y\n",
    "trapz(trapz(a, axis=0), axis=0)"
   ]
  },
  {
   "cell_type": "code",
   "execution_count": 18,
   "metadata": {},
   "outputs": [
    {
     "data": {
      "text/plain": [
       "5.0"
      ]
     },
     "execution_count": 18,
     "metadata": {},
     "output_type": "execute_result"
    }
   ],
   "source": [
    "# Integral dupla: y e então em x\n",
    "trapz(trapz(a, axis=-1), axis=-1)"
   ]
  },
  {
   "cell_type": "markdown",
   "metadata": {},
   "source": [
    "# Bônus: Erro do método\n",
    "\n",
    "Por fim, podemos ver que o erro do método numérico decresce exponencialmente, na ordem de \\\\( n^{-2} \\\\), em função do aumento do número de pontos:\n",
    "\n",
    "![Regra do Trapézio](https://github.com/fastai/fastpages/raw/master/images/trapezoidal-rule.gif)\n",
    "\n",
    "Mas ele fica saturado por volta de \\\\( 10^{-12} \\\\). É hora da reflexão, você sabe me dizer o que acontece ali?"
   ]
  },
  {
   "cell_type": "code",
   "execution_count": null,
   "metadata": {},
   "outputs": [],
   "source": []
  }
 ],
 "metadata": {
  "kernelspec": {
   "display_name": "Python 3",
   "language": "python",
   "name": "python3"
  },
  "language_info": {
   "codemirror_mode": {
    "name": "ipython",
    "version": 3
   },
   "file_extension": ".py",
   "mimetype": "text/x-python",
   "name": "python",
   "nbconvert_exporter": "python",
   "pygments_lexer": "ipython3",
   "version": "3.8.2"
  },
  "toc": {
   "base_numbering": 1,
   "nav_menu": {},
   "number_sections": true,
   "sideBar": true,
   "skip_h1_title": false,
   "title_cell": "Table of Contents",
   "title_sidebar": "Contents",
   "toc_cell": false,
   "toc_position": {},
   "toc_section_display": true,
   "toc_window_display": true
  },
  "varInspector": {
   "cols": {
    "lenName": 16,
    "lenType": 16,
    "lenVar": 40
   },
   "kernels_config": {
    "python": {
     "delete_cmd_postfix": "",
     "delete_cmd_prefix": "del ",
     "library": "var_list.py",
     "varRefreshCmd": "print(var_dic_list())"
    },
    "r": {
     "delete_cmd_postfix": ") ",
     "delete_cmd_prefix": "rm(",
     "library": "var_list.r",
     "varRefreshCmd": "cat(var_dic_list()) "
    }
   },
   "types_to_exclude": [
    "module",
    "function",
    "builtin_function_or_method",
    "instance",
    "_Feature"
   ],
   "window_display": false
  }
 },
 "nbformat": 4,
 "nbformat_minor": 4
}
